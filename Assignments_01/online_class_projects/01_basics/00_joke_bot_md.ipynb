{
  "nbformat": 4,
  "nbformat_minor": 0,
  "metadata": {
    "colab": {
      "provenance": []
    },
    "kernelspec": {
      "name": "python3",
      "display_name": "Python 3"
    },
    "language_info": {
      "name": "python"
    }
  },
  "cells": [
    {
      "cell_type": "markdown",
      "source": [
        "**00_joke_bot.md**"
      ],
      "metadata": {
        "id": "1RGa3qdsAswn"
      }
    },
    {
      "cell_type": "code",
      "source": [
        "\n",
        "PROMPT = \"Hello! What do you want? (Hint: I only respond to 'Joke')\\n\"\n",
        "JOKE = \"\"\"Here is a joke for you! 🤖\n",
        "Panaversity GPT - Sophia is heading out to the grocery store.\n",
        "A programmer tells her: \"Get a liter of milk, and if they have eggs, get 12.\"\n",
        "Sophia returns with 13 liters of milk.\n",
        "The programmer asks why, and Sophia replies:\n",
        "\"Because they had eggs!\" 🥛🥚😂\"\"\"\n",
        "SORRY = \"Sorry, I only tell jokes! 😅 Try asking for a 'Joke'.\"\n",
        "\n",
        "\n",
        "user_input = input(PROMPT)\n",
        "\n",
        "\n",
        "if user_input.strip() == \"Joke\":\n",
        "    print(JOKE)\n",
        "else:\n",
        "    print(SORRY)\n"
      ],
      "metadata": {
        "colab": {
          "base_uri": "https://localhost:8080/"
        },
        "id": "wzpLfjTsDui1",
        "outputId": "a4dc3377-4f7b-4efb-92e5-20b0ff9d1daa"
      },
      "execution_count": 1,
      "outputs": [
        {
          "output_type": "stream",
          "name": "stdout",
          "text": [
            "Hello! What do you want? (Hint: I only respond to 'Joke')\n",
            "Joke\n",
            "Here is a joke for you! 🤖\n",
            "Panaversity GPT - Sophia is heading out to the grocery store.\n",
            "A programmer tells her: \"Get a liter of milk, and if they have eggs, get 12.\"\n",
            "Sophia returns with 13 liters of milk.\n",
            "The programmer asks why, and Sophia replies:\n",
            "\"Because they had eggs!\" 🥛🥚😂\n"
          ]
        }
      ]
    }
  ]
}