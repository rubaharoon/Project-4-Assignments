{
  "nbformat": 4,
  "nbformat_minor": 0,
  "metadata": {
    "colab": {
      "provenance": []
    },
    "kernelspec": {
      "name": "python3",
      "display_name": "Python 3"
    },
    "language_info": {
      "name": "python"
    }
  },
  "cells": [
    {
      "cell_type": "markdown",
      "source": [
        "**QR code encoder / decoder Python Project**"
      ],
      "metadata": {
        "id": "R5FkwTpFM0hZ"
      }
    },
    {
      "cell_type": "code",
      "source": [
        "!pip install qrcode[pil] opencv-python numpy\n",
        "\n",
        "import qrcode\n",
        "import cv2\n",
        "import numpy as np\n",
        "from PIL import Image\n",
        "from IPython.display import Image as ColabImage, display\n",
        "from google.colab import files\n",
        "\n",
        "# --- GENERATE QR CODE FUNCTION ---\n",
        "def generate_qr(data, filename=\"qr.png\", color=\"black\", bg_color=\"white\"):\n",
        "    qr = qrcode.QRCode(\n",
        "        version=1,\n",
        "        error_correction=qrcode.constants.ERROR_CORRECT_H,\n",
        "        box_size=10,\n",
        "        border=4,\n",
        "    )\n",
        "    qr.add_data(data)\n",
        "    qr.make(fit=True)\n",
        "\n",
        "    img = qr.make_image(fill_color=color, back_color=bg_color).convert(\"RGB\")\n",
        "    img.save(filename)\n",
        "    print(f\"✅ QR code saved as {filename}\")\n",
        "\n",
        "# --- DECODE QR CODE FUNCTION ---\n",
        "def decode_qr(filename):\n",
        "    img = cv2.imread(filename)\n",
        "    detector = cv2.QRCodeDetector()\n",
        "    data, vertices_array, _ = detector.detectAndDecode(img)\n",
        "    if vertices_array is not None:\n",
        "        print(f\"📥 Decoded data: {data}\")\n",
        "        return data\n",
        "    else:\n",
        "        print(\"❌ No QR code found.\")\n",
        "        return None\n",
        "\n",
        "# 1. Generate the QR code\n",
        "generate_qr(\n",
        "    \"https://www.youtube.com/@rubaharoon331\",\n",
        "    filename=\"custom_qr.png\",\n",
        "    color=\"black\",\n",
        "    bg_color=\"white\"\n",
        ")\n",
        "\n",
        "# 2. Display the QR code in the notebook\n",
        "display(ColabImage(\"custom_qr.png\"))\n",
        "\n",
        "# 3. Offer download of the QR code image\n",
        "files.download(\"custom_qr.png\")\n",
        "\n",
        "# 4. Decode and print the contents of the QR code\n",
        "decode_qr(\"custom_qr.png\")\n"
      ],
      "metadata": {
        "id": "ewONq8h2NDt0",
        "colab": {
          "base_uri": "https://localhost:8080/",
          "height": 590
        },
        "outputId": "50a4a6da-9662-402d-d2be-7eb55d9f3804"
      },
      "execution_count": 5,
      "outputs": [
        {
          "output_type": "stream",
          "name": "stdout",
          "text": [
            "Requirement already satisfied: opencv-python in /usr/local/lib/python3.11/dist-packages (4.11.0.86)\n",
            "Requirement already satisfied: numpy in /usr/local/lib/python3.11/dist-packages (2.0.2)\n",
            "Requirement already satisfied: qrcode[pil] in /usr/local/lib/python3.11/dist-packages (8.1)\n",
            "Requirement already satisfied: pillow>=9.1.0 in /usr/local/lib/python3.11/dist-packages (from qrcode[pil]) (11.1.0)\n",
            "✅ QR code saved as custom_qr.png\n"
          ]
        },
        {
          "output_type": "display_data",
          "data": {
            "image/png": "[encoded data removed]",
            "text/plain": [
              "<IPython.core.display.Image object>"
            ]
          },
          "metadata": {}
        },
        {
          "output_type": "display_data",
          "data": {
            "text/plain": [
              "<IPython.core.display.Javascript object>"
            ],
            "application/javascript": [
              "\n",
              "    async function download(id, filename, size) {\n",
              "      if (!google.colab.kernel.accessAllowed) {\n",
              "        return;\n",
              "      }\n",
              "      const div = document.createElement('div');\n",
              "      const label = document.createElement('label');\n",
              "      label.textContent = `Downloading \"${filename}\": `;\n",
              "      div.appendChild(label);\n",
              "      const progress = document.createElement('progress');\n",
              "      progress.max = size;\n",
              "      div.appendChild(progress);\n",
              "      document.body.appendChild(div);\n",
              "\n",
              "      const buffers = [];\n",
              "      let downloaded = 0;\n",
              "\n",
              "      const channel = await google.colab.kernel.comms.open(id);\n",
              "      // Send a message to notify the kernel that we're ready.\n",
              "      channel.send({})\n",
              "\n",
              "      for await (const message of channel.messages) {\n",
              "        // Send a message to notify the kernel that we're ready.\n",
              "        channel.send({})\n",
              "        if (message.buffers) {\n",
              "          for (const buffer of message.buffers) {\n",
              "            buffers.push(buffer);\n",
              "            downloaded += buffer.byteLength;\n",
              "            progress.value = downloaded;\n",
              "          }\n",
              "        }\n",
              "      }\n",
              "      const blob = new Blob(buffers, {type: 'application/binary'});\n",
              "      const a = document.createElement('a');\n",
              "      a.href = window.URL.createObjectURL(blob);\n",
              "      a.download = filename;\n",
              "      div.appendChild(a);\n",
              "      a.click();\n",
              "      div.remove();\n",
              "    }\n",
              "  "
            ]
          },
          "metadata": {}
        },
        {
          "output_type": "display_data",
          "data": {
            "text/plain": [
              "<IPython.core.display.Javascript object>"
            ],
            "application/javascript": [
              "download(\"download_0ae7e779-40ab-4b01-ad66-7e1ffcc5c1f8\", \"custom_qr.png\", 2469)"
            ]
          },
          "metadata": {}
        },
        {
          "output_type": "stream",
          "name": "stdout",
          "text": [
            "📥 Decoded data: https://www.youtube.com/@rubaharoon331\n"
          ]
        },
        {
          "output_type": "execute_result",
          "data": {
            "text/plain": [
              "'https://www.youtube.com/@rubaharoon331'"
            ],
            "application/vnd.google.colaboratory.intrinsic+json": {
              "type": "string"
            }
          },
          "metadata": {},
          "execution_count": 5
        }
      ]
    }
  ]
}