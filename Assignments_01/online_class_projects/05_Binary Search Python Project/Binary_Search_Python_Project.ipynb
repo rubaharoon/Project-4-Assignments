{
  "nbformat": 4,
  "nbformat_minor": 0,
  "metadata": {
    "colab": {
      "provenance": []
    },
    "kernelspec": {
      "name": "python3",
      "display_name": "Python 3"
    },
    "language_info": {
      "name": "python"
    }
  },
  "cells": [
    {
      "cell_type": "markdown",
      "source": [
        "**Binary_Search_Python_Project**"
      ],
      "metadata": {
        "id": "FMxez4DAUT8n"
      }
    },
    {
      "cell_type": "code",
      "source": [
        "def binary_search(arr, target):\n",
        "    left, right = 0, len(arr) - 1\n",
        "\n",
        "    while left <= right:\n",
        "        mid = (left + right) // 2\n",
        "        if arr[mid] == target:\n",
        "            return f\"🎯 Found the golden key at index {mid}!\"\n",
        "        elif arr[mid] < target:\n",
        "            left = mid + 1\n",
        "        else:\n",
        "            right = mid - 1\n",
        "\n",
        "    return \"❌ The golden key is not here!\"\n",
        "\n",
        "\n",
        "treasure_map = [1, 3, 5, 7, 9, 11, 13, 15]\n",
        "key = 9\n",
        "print(binary_search(treasure_map, key))\n"
      ],
      "metadata": {
        "colab": {
          "base_uri": "https://localhost:8080/"
        },
        "id": "honc7wn8UZe6",
        "outputId": "c8da22b2-1ff0-4806-bdc1-b9f9902ccb47"
      },
      "execution_count": null,
      "outputs": [
        {
          "output_type": "stream",
          "name": "stdout",
          "text": [
            "🎯 Found the golden key at index 4!\n"
          ]
        }
      ]
    }
  ]
}