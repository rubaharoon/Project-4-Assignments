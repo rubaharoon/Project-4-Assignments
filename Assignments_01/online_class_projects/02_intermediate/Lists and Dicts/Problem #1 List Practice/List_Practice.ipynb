{
  "nbformat": 4,
  "nbformat_minor": 0,
  "metadata": {
    "colab": {
      "provenance": []
    },
    "kernelspec": {
      "name": "python3",
      "display_name": "Python 3"
    },
    "language_info": {
      "name": "python"
    }
  },
  "cells": [
    {
      "cell_type": "markdown",
      "source": [
        "**List Practice**"
      ],
      "metadata": {
        "id": "f_0j_P4YoigD"
      }
    },
    {
      "cell_type": "code",
      "source": [
        "\n",
        "import random\n",
        "\n",
        "def main():\n",
        "    # Create the fruit list\n",
        "    fruit_list = ['apple', 'banana', 'orange', 'grape', 'pineapple']\n",
        "\n",
        "    print(\"🍎🍌 Welcome to the **Fruit Kingdom!** 🍍🍇\")\n",
        "    print(\"Your starting fruit basket:\", fruit_list)\n",
        "\n",
        "    # Print the length of the list\n",
        "    print(f\"📏 Your basket contains {len(fruit_list)} delicious fruits.\")\n",
        "\n",
        "\n",
        "    fruit_list.append('mango')\n",
        "    print(\"🥭 A **magical mango** has appeared in your basket!\")\n",
        "\n",
        "\n",
        "    fun_facts = [\n",
        "        \"🍏 Apples give you more energy than coffee!\",\n",
        "        \"🍌 Bananas are **technically berries**, but strawberries are not!\",\n",
        "        \"🍊 Oranges were originally **green**!\",\n",
        "        \"🍇 Grapes explode when microwaved (but don't try it)!\",\n",
        "        \"🍍 Pineapples take **2 years** to grow!\"\n",
        "    ]\n",
        "\n",
        "\n",
        "    print(random.choice(fun_facts))\n",
        "\n",
        "\n",
        "    print(\"🎉 Your updated fruit basket:\", fruit_list)\n",
        "\n",
        "    print(\"\\nThanks for visiting the Fruit Kingdom! 🍓👑\")\n",
        "\n",
        "# Call the function\n",
        "main()"
      ],
      "metadata": {
        "colab": {
          "base_uri": "https://localhost:8080/"
        },
        "id": "zqM6gIOYojVf",
        "outputId": "339010ef-bc9c-4188-bcfb-73a7337347b9"
      },
      "execution_count": null,
      "outputs": [
        {
          "output_type": "stream",
          "name": "stdout",
          "text": [
            "🍎🍌 Welcome to the **Fruit Kingdom!** 🍍🍇\n",
            "Your starting fruit basket: ['apple', 'banana', 'orange', 'grape', 'pineapple']\n",
            "📏 Your basket contains 5 delicious fruits.\n",
            "🥭 A **magical mango** has appeared in your basket!\n",
            "🍌 Bananas are **technically berries**, but strawberries are not!\n",
            "🎉 Your updated fruit basket: ['apple', 'banana', 'orange', 'grape', 'pineapple', 'mango']\n",
            "\n",
            "Thanks for visiting the Fruit Kingdom! 🍓👑\n"
          ]
        }
      ]
    }
  ]
}