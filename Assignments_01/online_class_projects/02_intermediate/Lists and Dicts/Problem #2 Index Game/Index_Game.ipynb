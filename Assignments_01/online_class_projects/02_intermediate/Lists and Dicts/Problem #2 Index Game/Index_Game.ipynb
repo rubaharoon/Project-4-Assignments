{
  "nbformat": 4,
  "nbformat_minor": 0,
  "metadata": {
    "colab": {
      "provenance": []
    },
    "kernelspec": {
      "name": "python3",
      "display_name": "Python 3"
    },
    "language_info": {
      "name": "python"
    }
  },
  "cells": [
    {
      "cell_type": "markdown",
      "source": [
        "**Index Game**"
      ],
      "metadata": {
        "id": "FFDNVhmRnNoC"
      }
    },
    {
      "cell_type": "code",
      "source": [
        "import random\n",
        "\n",
        "\n",
        "fun_messages = [\n",
        "    \"Great choice! 🎉\",\n",
        "    \"That was unexpected! 🤔\",\n",
        "    \"Nice move! 😎\",\n",
        "    \"Whoa! Didn't see that coming! 🚀\",\n",
        "    \"You're a list master! 👑\"\n",
        "]\n",
        "\n",
        "\n",
        "def access_element(lst, index):\n",
        "    try:\n",
        "        return f\"You found: {lst[index]}! {random.choice(fun_messages)}\"\n",
        "    except IndexError:\n",
        "        return \"Oops! That index is out of range. Try again! ❌\"\n",
        "\n",
        "def modify_element(lst, index, new_value):\n",
        "    try:\n",
        "        lst[index] = new_value\n",
        "        return f\"Boom! {new_value} has replaced the old value! {random.choice(fun_messages)}\"\n",
        "    except IndexError:\n",
        "        return \"Oops! That index is out of range. Try again! ❌\"\n",
        "\n",
        "def slice_list(lst, start, end):\n",
        "    sliced = lst[start:end]\n",
        "    return f\"You discovered a secret slice: {sliced}! {random.choice(fun_messages)}\"\n",
        "\n",
        "\n",
        "def main():\n",
        "    my_list = [\"dragon 🐉\", \"wizard 🧙‍♂️\", \"sword ⚔️\", \"gold 💰\", \"mystery potion 🧪\"]\n",
        "\n",
        "    print(\"🧙‍♂️ Welcome, brave adventurer, to the **List Realm!**\")\n",
        "    print(f\"Your magical inventory: {my_list}\")\n",
        "\n",
        "    while True:\n",
        "        print(\"\\n✨ What would you like to do?\")\n",
        "        print(\"1. 🔍 Inspect an item\")\n",
        "        print(\"2. ✏️ Change an item\")\n",
        "        print(\"3. ✂️ Take a magical slice\")\n",
        "        print(\"4. 🚪 Exit the realm\")\n",
        "\n",
        "        choice = input(\"Enter your choice (1-4): \")\n",
        "\n",
        "        if choice == \"1\":\n",
        "            index = int(input(\"Enter the index to inspect (0-4): \"))\n",
        "            print(access_element(my_list, index))\n",
        "\n",
        "        elif choice == \"2\":\n",
        "            index = int(input(\"Enter the index to change (0-4): \"))\n",
        "            new_value = input(\"Enter the new magical item: \")\n",
        "            print(modify_element(my_list, index, new_value))\n",
        "            print(f\"Your updated inventory: {my_list}\")\n",
        "\n",
        "        elif choice == \"3\":\n",
        "            start = int(input(\"Enter the start index (0-4): \"))\n",
        "            end = int(input(\"Enter the end index (1-5): \"))\n",
        "            print(slice_list(my_list, start, end))\n",
        "\n",
        "        elif choice == \"4\":\n",
        "            print(\"🚀 You have left the List Realm. Until next time, adventurer!\")\n",
        "            break\n",
        "\n",
        "        else:\n",
        "            print(\"🛑 That's not a valid option. Try again!\")\n",
        "\n",
        "if __name__ == \"__main__\":\n",
        "    main()"
      ],
      "metadata": {
        "colab": {
          "base_uri": "https://localhost:8080/"
        },
        "id": "lV1HpIclnQ8G",
        "outputId": "956b04e6-994e-43f1-ae48-58902c73a0fd"
      },
      "execution_count": null,
      "outputs": [
        {
          "output_type": "stream",
          "name": "stdout",
          "text": [
            "🧙‍♂️ Welcome, brave adventurer, to the **List Realm!**\n",
            "Your magical inventory: ['dragon 🐉', 'wizard 🧙\\u200d♂️', 'sword ⚔️', 'gold 💰', 'mystery potion 🧪']\n",
            "\n",
            "✨ What would you like to do?\n",
            "1. 🔍 Inspect an item\n",
            "2. ✏️ Change an item\n",
            "3. ✂️ Take a magical slice\n",
            "4. 🚪 Exit the realm\n",
            "Enter your choice (1-4): 1\n",
            "Enter the index to inspect (0-4): 2\n",
            "You found: sword ⚔️! You're a list master! 👑\n",
            "\n",
            "✨ What would you like to do?\n",
            "1. 🔍 Inspect an item\n",
            "2. ✏️ Change an item\n",
            "3. ✂️ Take a magical slice\n",
            "4. 🚪 Exit the realm\n",
            "Enter your choice (1-4): 2\n",
            "Enter the index to change (0-4): 0\n",
            "Enter the new magical item: Fairy\n",
            "Boom! Fairy has replaced the old value! Great choice! 🎉\n",
            "Your updated inventory: ['Fairy', 'wizard 🧙\\u200d♂️', 'sword ⚔️', 'gold 💰', 'mystery potion 🧪']\n",
            "\n",
            "✨ What would you like to do?\n",
            "1. 🔍 Inspect an item\n",
            "2. ✏️ Change an item\n",
            "3. ✂️ Take a magical slice\n",
            "4. 🚪 Exit the realm\n",
            "Enter your choice (1-4): 4\n",
            "🚀 You have left the List Realm. Until next time, adventurer!\n"
          ]
        }
      ]
    }
  ]
}