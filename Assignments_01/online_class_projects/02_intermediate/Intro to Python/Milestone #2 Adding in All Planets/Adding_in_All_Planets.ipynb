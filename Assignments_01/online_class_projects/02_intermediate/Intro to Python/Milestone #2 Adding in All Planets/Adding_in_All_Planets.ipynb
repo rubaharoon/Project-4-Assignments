{
  "nbformat": 4,
  "nbformat_minor": 0,
  "metadata": {
    "colab": {
      "provenance": []
    },
    "kernelspec": {
      "name": "python3",
      "display_name": "Python 3"
    },
    "language_info": {
      "name": "python"
    }
  },
  "cells": [
    {
      "cell_type": "markdown",
      "source": [
        "**Adding in All Planets**"
      ],
      "metadata": {
        "id": "eCrQy0zmptmw"
      }
    },
    {
      "cell_type": "code",
      "source": [
        "\n",
        "\n",
        "print(\"🚀 Welcome to the Interplanetary Weight Converter! 🌍✨\")\n",
        "print(\"Ever wondered how much you'd weigh on another planet? Let's find out!\\n\")\n",
        "\n",
        "\n",
        "earth_weight = float(input(\"Enter your weight on Earth (in kg): \"))\n",
        "\n",
        "\n",
        "planet = input(\"Enter the name of a planet in our solar system: \")\n",
        "\n",
        "\n",
        "if planet == \"Mercury\":\n",
        "    new_weight = earth_weight * 0.376\n",
        "elif planet == \"Venus\":\n",
        "    new_weight = earth_weight * 0.889\n",
        "elif planet == \"Mars\":\n",
        "    new_weight = earth_weight * 0.378\n",
        "elif planet == \"Jupiter\":\n",
        "    new_weight = earth_weight * 2.36\n",
        "elif planet == \"Saturn\":\n",
        "    new_weight = earth_weight * 1.081\n",
        "elif planet == \"Uranus\":\n",
        "    new_weight = earth_weight * 0.815\n",
        "elif planet == \"Neptune\":\n",
        "    new_weight = earth_weight * 1.14\n",
        "else:\n",
        "    new_weight = None\n",
        "\n",
        "\n",
        "if new_weight is not None:\n",
        "    print(f\"\\n🌌 On {planet}, you would weigh approximately {new_weight:.2f} kg! 🚀\")\n",
        "else:\n",
        "    print(\"\\nOops! That planet isn't in our database. Try again with a valid planet name.\")\n",
        "\n",
        "print(\"\\nRemember, weight is just the force of gravity! Your mass stays the same everywhere in the universe. 🌠\")"
      ],
      "metadata": {
        "id": "UzGufOpFpueA",
        "colab": {
          "base_uri": "https://localhost:8080/"
        },
        "outputId": "c360c971-262e-499e-9d14-d658be9b033c"
      },
      "execution_count": 1,
      "outputs": [
        {
          "output_type": "stream",
          "name": "stdout",
          "text": [
            "🚀 Welcome to the Interplanetary Weight Converter! 🌍✨\n",
            "Ever wondered how much you'd weigh on another planet? Let's find out!\n",
            "\n",
            "Enter your weight on Earth (in kg): 50\n",
            "Enter the name of a planet in our solar system: Mars\n",
            "\n",
            "🌌 On Mars, you would weigh approximately 18.90 kg! 🚀\n",
            "\n",
            "Remember, weight is just the force of gravity! Your mass stays the same everywhere in the universe. 🌠\n"
          ]
        }
      ]
    }
  ]
}