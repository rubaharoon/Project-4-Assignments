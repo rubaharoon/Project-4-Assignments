{
  "nbformat": 4,
  "nbformat_minor": 0,
  "metadata": {
    "colab": {
      "provenance": []
    },
    "kernelspec": {
      "name": "python3",
      "display_name": "Python 3"
    },
    "language_info": {
      "name": "python"
    }
  },
  "cells": [
    {
      "cell_type": "markdown",
      "source": [
        "**Mars Weight**"
      ],
      "metadata": {
        "id": "ROwEZ2RJpLJB"
      }
    },
    {
      "cell_type": "code",
      "source": [
        "print(\"🌍🚀 Welcome, Earthling! Let's find out how much you'd weigh on Mars! 🪐\")\n",
        "\n",
        "# Get user input\n",
        "earth_weight = float(input(\"\\nEnter your weight on Earth (kg): \"))\n",
        "\n",
        "# Calculate Mars weight\n",
        "mars_weight = earth_weight * 0.378\n",
        "\n",
        "# Display the result with a fun message\n",
        "print(f\"\\n👽 On Mars, you would weigh only {round(mars_weight, 2)} kg! Lighter, right?\")\n",
        "print(\"Maybe it's time to book that one-way ticket to Mars! 🚀😉\")"
      ],
      "metadata": {
        "colab": {
          "base_uri": "https://localhost:8080/"
        },
        "id": "uvZt98TYpMBR",
        "outputId": "b226deda-cf38-4f06-ed29-6389661effc1"
      },
      "execution_count": null,
      "outputs": [
        {
          "output_type": "stream",
          "name": "stdout",
          "text": [
            "🌍🚀 Welcome, Earthling! Let's find out how much you'd weigh on Mars! 🪐\n",
            "\n",
            "Enter your weight on Earth (kg): 50\n",
            "\n",
            "👽 On Mars, you would weigh only 18.9 kg! Lighter, right?\n",
            "Maybe it's time to book that one-way ticket to Mars! 🚀😉\n"
          ]
        }
      ]
    }
  ]
}