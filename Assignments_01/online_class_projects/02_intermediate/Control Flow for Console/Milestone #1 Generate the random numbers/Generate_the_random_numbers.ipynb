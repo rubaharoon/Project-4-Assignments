{
  "nbformat": 4,
  "nbformat_minor": 0,
  "metadata": {
    "colab": {
      "provenance": []
    },
    "kernelspec": {
      "name": "python3",
      "display_name": "Python 3"
    },
    "language_info": {
      "name": "python"
    }
  },
  "cells": [
    {
      "cell_type": "markdown",
      "source": [
        "**Generate the random numbers**"
      ],
      "metadata": {
        "id": "1Tgr2RqU5Kw2"
      }
    },
    {
      "cell_type": "code",
      "source": [
        "import random\n",
        "\n",
        "def generate_numbers():\n",
        "    user_number = random.randint(1, 100)\n",
        "    computer_number = random.randint(1, 100)\n",
        "\n",
        "    print(\"🎲 Welcome to The Ultimate Number Duel! 🎲\")\n",
        "    print(\"\\n🔹 Generating numbers... 🔹\")\n",
        "\n",
        "    print(f\"✨ Your Number: {user_number}\")\n",
        "    print(f\"🤖 Computer's Number: {computer_number}\")\n",
        "\n",
        "\n",
        "generate_numbers()\n"
      ],
      "metadata": {
        "colab": {
          "base_uri": "https://localhost:8080/"
        },
        "id": "RAdh2rZj5NND",
        "outputId": "93939693-1e00-4c07-a50b-9cdb81716585"
      },
      "execution_count": 1,
      "outputs": [
        {
          "output_type": "stream",
          "name": "stdout",
          "text": [
            "🎲 Welcome to The Ultimate Number Duel! 🎲\n",
            "\n",
            "🔹 Generating numbers... 🔹\n",
            "✨ Your Number: 14\n",
            "🤖 Computer's Number: 33\n"
          ]
        }
      ]
    }
  ]
}