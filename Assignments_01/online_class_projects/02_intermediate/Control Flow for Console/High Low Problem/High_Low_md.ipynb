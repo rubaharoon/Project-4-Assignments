{
  "nbformat": 4,
  "nbformat_minor": 0,
  "metadata": {
    "colab": {
      "provenance": []
    },
    "kernelspec": {
      "name": "python3",
      "display_name": "Python 3"
    },
    "language_info": {
      "name": "python"
    }
  },
  "cells": [
    {
      "cell_type": "markdown",
      "source": [
        "**High Low**"
      ],
      "metadata": {
        "id": "OFnCmYgTKa-t"
      }
    },
    {
      "cell_type": "code",
      "source": [
        "import random\n",
        "\n",
        "def play_high_low():\n",
        "    print(\"🎲 Welcome to Guess the Number Battle! 🎲\")\n",
        "    rounds = int(input(\"How many rounds would you like to play? \"))\n",
        "    user_score = 0\n",
        "    computer_score = 0\n",
        "\n",
        "    for round_num in range(1, rounds + 1):\n",
        "        print(f\"\\n🔹 Round {round_num} 🔹\")\n",
        "\n",
        "        user_number = random.randint(1, 100)\n",
        "        computer_number = random.randint(1, 100)\n",
        "\n",
        "        print(f\"Your number: {user_number}\")\n",
        "        guess = input(\"Do you think your number is 'higher' or 'lower' than the computer's? \").strip().lower()\n",
        "\n",
        "        if (guess == \"higher\" and user_number > computer_number) or (guess == \"lower\" and user_number < computer_number):\n",
        "            print(\"✅ Correct! You get a point.\")\n",
        "            user_score += 1\n",
        "        else:\n",
        "            print(f\"❌ Wrong! The computer's number was {computer_number}. No points for you.\")\n",
        "            computer_score += 1\n",
        "\n",
        "        print(f\"Current Score: You - {user_score} | Computer - {computer_score}\")\n",
        "\n",
        "    print(\"\\n🎉 Game Over! 🎉\")\n",
        "    print(f\"Final Score: You - {user_score} | Computer - {computer_score}\")\n",
        "\n",
        "    if user_score > computer_score:\n",
        "        print(\"🏆 Congratulations! You win!\")\n",
        "    elif user_score < computer_score:\n",
        "        print(\"🤖 The computer wins! Better luck next time!\")\n",
        "    else:\n",
        "        print(\"🔄 It's a tie!\")\n",
        "\n",
        "    play_again = input(\"\\nDo you want to play again? (yes/no): \").strip().lower()\n",
        "    if play_again == \"yes\":\n",
        "        play_high_low()\n",
        "    else:\n",
        "        print(\"Thanks for playing! Goodbye! 👋\")\n",
        "\n",
        "\n",
        "play_high_low()\n"
      ],
      "metadata": {
        "id": "ovt-D6h8KcqL",
        "colab": {
          "base_uri": "https://localhost:8080/"
        },
        "outputId": "785acc2f-8c68-4c2c-f7bc-064f796f81c6"
      },
      "execution_count": 1,
      "outputs": [
        {
          "output_type": "stream",
          "name": "stdout",
          "text": [
            "🎲 Welcome to Guess the Number Battle! 🎲\n",
            "How many rounds would you like to play? 5\n",
            "\n",
            "🔹 Round 1 🔹\n",
            "Your number: 79\n",
            "Do you think your number is 'higher' or 'lower' than the computer's? higher\n",
            "✅ Correct! You get a point.\n",
            "Current Score: You - 1 | Computer - 0\n",
            "\n",
            "🔹 Round 2 🔹\n",
            "Your number: 35\n",
            "Do you think your number is 'higher' or 'lower' than the computer's? lower\n",
            "❌ Wrong! The computer's number was 10. No points for you.\n",
            "Current Score: You - 1 | Computer - 1\n",
            "\n",
            "🔹 Round 3 🔹\n",
            "Your number: 7\n",
            "Do you think your number is 'higher' or 'lower' than the computer's? lower\n",
            "✅ Correct! You get a point.\n",
            "Current Score: You - 2 | Computer - 1\n",
            "\n",
            "🔹 Round 4 🔹\n",
            "Your number: 95\n",
            "Do you think your number is 'higher' or 'lower' than the computer's? higher\n",
            "✅ Correct! You get a point.\n",
            "Current Score: You - 3 | Computer - 1\n",
            "\n",
            "🔹 Round 5 🔹\n",
            "Your number: 66\n",
            "Do you think your number is 'higher' or 'lower' than the computer's? higher\n",
            "✅ Correct! You get a point.\n",
            "Current Score: You - 4 | Computer - 1\n",
            "\n",
            "🎉 Game Over! 🎉\n",
            "Final Score: You - 4 | Computer - 1\n",
            "🏆 Congratulations! You win!\n",
            "\n",
            "Do you want to play again? (yes/no): no\n",
            "Thanks for playing! Goodbye! 👋\n"
          ]
        }
      ]
    }
  ]
}