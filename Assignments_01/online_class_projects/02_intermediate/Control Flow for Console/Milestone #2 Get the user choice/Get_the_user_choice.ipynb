{
  "nbformat": 4,
  "nbformat_minor": 0,
  "metadata": {
    "colab": {
      "provenance": []
    },
    "kernelspec": {
      "name": "python3",
      "display_name": "Python 3"
    },
    "language_info": {
      "name": "python"
    }
  },
  "cells": [
    {
      "cell_type": "markdown",
      "source": [
        "**Get the user choice**"
      ],
      "metadata": {
        "id": "0QQ44xDK7DfG"
      }
    },
    {
      "cell_type": "code",
      "source": [
        "import random\n",
        "import time\n",
        "\n",
        "def play_number_duel():\n",
        "    print(\"🎲 Welcome to The Ultimate Number Duel! 🎲\")\n",
        "\n",
        "    user_number = random.randint(1, 100)\n",
        "    computer_number = random.randint(1, 100)\n",
        "\n",
        "    print(\"\\n🔹 Generating numbers... 🔹\")\n",
        "    time.sleep(1)\n",
        "\n",
        "    print(f\"✨ Your Number: {user_number}\")\n",
        "\n",
        "    # Get user input\n",
        "    guess = input(\"Do you think your number is 'higher' or 'lower' than the computer's? \").strip().lower()\n",
        "\n",
        "    print(\"\\n🤖 The computer is revealing its number...\")\n",
        "    time.sleep(2)\n",
        "\n",
        "    print(f\"💻 Computer's Number: {computer_number}\")\n",
        "\n",
        "    if (guess == \"higher\" and user_number > computer_number) or (guess == \"lower\" and user_number < computer_number):\n",
        "        print(\"✅ Correct! You win this round! 🎉\")\n",
        "    else:\n",
        "        print(\"❌ Wrong guess! Better luck next time! 😢\")\n",
        "\n",
        "play_number_duel()\n"
      ],
      "metadata": {
        "colab": {
          "base_uri": "https://localhost:8080/"
        },
        "id": "NJRl07tn7Gxh",
        "outputId": "8dcbc439-0394-4b56-c3ad-160f5e5a97e1"
      },
      "execution_count": 1,
      "outputs": [
        {
          "output_type": "stream",
          "name": "stdout",
          "text": [
            "🎲 Welcome to The Ultimate Number Duel! 🎲\n",
            "\n",
            "🔹 Generating numbers... 🔹\n",
            "✨ Your Number: 95\n",
            "Do you think your number is 'higher' or 'lower' than the computer's? higher\n",
            "\n",
            "🤖 The computer is revealing its number...\n",
            "💻 Computer's Number: 43\n",
            "✅ Correct! You win this round! 🎉\n"
          ]
        }
      ]
    }
  ]
}