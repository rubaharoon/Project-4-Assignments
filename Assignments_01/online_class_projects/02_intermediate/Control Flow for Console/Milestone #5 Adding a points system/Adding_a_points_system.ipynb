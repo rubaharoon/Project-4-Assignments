{
  "nbformat": 4,
  "nbformat_minor": 0,
  "metadata": {
    "colab": {
      "provenance": []
    },
    "kernelspec": {
      "name": "python3",
      "display_name": "Python 3"
    },
    "language_info": {
      "name": "python"
    }
  },
  "cells": [
    {
      "cell_type": "markdown",
      "source": [
        "**Adding a points system**"
      ],
      "metadata": {
        "id": "mwCYu4GZ-W6G"
      }
    },
    {
      "cell_type": "code",
      "source": [
        "import random\n",
        "import time\n",
        "\n",
        "# Constant for the number of rounds\n",
        "NUM_ROUNDS = 5\n",
        "\n",
        "def play_battle_of_numbers():\n",
        "    print(\"🎲 Welcome to Battle of Numbers! 🎲\\n\")\n",
        "\n",
        "    user_score = 0\n",
        "\n",
        "    for round_num in range(1, NUM_ROUNDS + 1):\n",
        "        print(f\"⚔️ ROUND {round_num} ⚔️\")  # 🎯 Milestone 5: Show round number\n",
        "\n",
        "        # 🎯 Milestone 1: Generate random numbers\n",
        "        user_number = random.randint(1, 100)\n",
        "        computer_number = random.randint(1, 100)\n",
        "\n",
        "        print(f\"\\n✨ Your number is {user_number}\")\n",
        "\n",
        "        # 🎯 Extension 1: Input validation\n",
        "        while True:\n",
        "            guess = input(\"Do you think your number is higher or lower than the computer's?: \").strip().lower()\n",
        "            if guess in [\"higher\", \"lower\"]:\n",
        "                break\n",
        "            print(\"⚠️ Please enter either 'higher' or 'lower'.\")\n",
        "\n",
        "        print(\"\\n🤖 The computer is making its move...\")\n",
        "        time.sleep(2)\n",
        "\n",
        "        # 🎯 Milestone 3: Compare numbers and determine winner\n",
        "        if user_number == computer_number:\n",
        "            print(f\"🤖 The numbers are the same! The computer wins this round! 😈 (Computer's number: {computer_number})\")\n",
        "        elif (guess == \"higher\" and user_number > computer_number) or (guess == \"lower\" and user_number < computer_number):\n",
        "            print(f\"✅ You were right! The computer's number was {computer_number}.\")\n",
        "            user_score += 1  # 🎯 Milestone 4: Track player score\n",
        "        else:\n",
        "            print(f\"❌ Wrong guess! The computer's number was {computer_number}. The computer wins this round! 😢\")\n",
        "\n",
        "        print(f\"🏆 Your score is now {user_score}\\n\")\n",
        "        print(\"-------------------\\n\")  # 🎯 Milestone 5: Separate rounds\n",
        "\n",
        "    # 🎯 Milestone 5: Final results\n",
        "    print(\"🎮 Game Over! 🎮\")\n",
        "    print(f\"🏆 Final Score: {user_score} out of {NUM_ROUNDS}\")\n",
        "\n",
        "    # 🎯 Extension 2: Conditional ending messages\n",
        "    if user_score == NUM_ROUNDS:\n",
        "        print(\"🌟 WOW! You played perfectly! Unstoppable! 🏆\")\n",
        "    elif user_score >= NUM_ROUNDS // 2:\n",
        "        print(\"👍 Good job! You played really well! 🎉\")\n",
        "    else:\n",
        "        print(\"😕 Better luck next time! Keep practicing!\")\n",
        "\n",
        "play_battle_of_numbers()\n"
      ],
      "metadata": {
        "colab": {
          "base_uri": "https://localhost:8080/"
        },
        "id": "Z7taN2Qb-YbI",
        "outputId": "dd7354b9-53b7-4d41-f7c5-d0b966ff816a"
      },
      "execution_count": 1,
      "outputs": [
        {
          "output_type": "stream",
          "name": "stdout",
          "text": [
            "🎲 Welcome to Battle of Numbers! 🎲\n",
            "\n",
            "⚔️ ROUND 1 ⚔️\n",
            "\n",
            "✨ Your number is 98\n",
            "Do you think your number is higher or lower than the computer's?: higher\n",
            "\n",
            "🤖 The computer is making its move...\n",
            "✅ You were right! The computer's number was 30.\n",
            "🏆 Your score is now 1\n",
            "\n",
            "-------------------\n",
            "\n",
            "⚔️ ROUND 2 ⚔️\n",
            "\n",
            "✨ Your number is 99\n",
            "Do you think your number is higher or lower than the computer's?: higher\n",
            "\n",
            "🤖 The computer is making its move...\n",
            "✅ You were right! The computer's number was 66.\n",
            "🏆 Your score is now 2\n",
            "\n",
            "-------------------\n",
            "\n",
            "⚔️ ROUND 3 ⚔️\n",
            "\n",
            "✨ Your number is 79\n",
            "Do you think your number is higher or lower than the computer's?: higher\n",
            "\n",
            "🤖 The computer is making its move...\n",
            "❌ Wrong guess! The computer's number was 83. The computer wins this round! 😢\n",
            "🏆 Your score is now 2\n",
            "\n",
            "-------------------\n",
            "\n",
            "⚔️ ROUND 4 ⚔️\n",
            "\n",
            "✨ Your number is 75\n",
            "Do you think your number is higher or lower than the computer's?: lower\n",
            "\n",
            "🤖 The computer is making its move...\n",
            "🤖 The numbers are the same! The computer wins this round! 😈 (Computer's number: 75)\n",
            "🏆 Your score is now 2\n",
            "\n",
            "-------------------\n",
            "\n",
            "⚔️ ROUND 5 ⚔️\n",
            "\n",
            "✨ Your number is 33\n",
            "Do you think your number is higher or lower than the computer's?: lower\n",
            "\n",
            "🤖 The computer is making its move...\n",
            "✅ You were right! The computer's number was 51.\n",
            "🏆 Your score is now 3\n",
            "\n",
            "-------------------\n",
            "\n",
            "🎮 Game Over! 🎮\n",
            "🏆 Final Score: 3 out of 5\n",
            "👍 Good job! You played really well! 🎉\n"
          ]
        }
      ]
    }
  ]
}