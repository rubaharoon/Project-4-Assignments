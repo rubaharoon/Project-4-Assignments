{
  "nbformat": 4,
  "nbformat_minor": 0,
  "metadata": {
    "colab": {
      "provenance": []
    },
    "kernelspec": {
      "name": "python3",
      "display_name": "Python 3"
    },
    "language_info": {
      "name": "python"
    }
  },
  "cells": [
    {
      "cell_type": "markdown",
      "source": [
        "**Write the game logic**"
      ],
      "metadata": {
        "id": "XdjRBzXu8q6V"
      }
    },
    {
      "cell_type": "code",
      "source": [
        "import random\n",
        "import time\n",
        "\n",
        "def play_number_duel():\n",
        "    print(\"🎲 Welcome to The Ultimate Number Duel! 🎲\")\n",
        "\n",
        "    # Generate random numbers\n",
        "    user_number = random.randint(1, 100)\n",
        "    computer_number = random.randint(1, 100)\n",
        "\n",
        "    print(\"\\n🔹 Generating numbers... 🔹\")\n",
        "    time.sleep(1)\n",
        "\n",
        "    print(f\"✨ Your Number: {user_number}\")\n",
        "\n",
        "    guess = input(\"Do you think your number is 'higher' or 'lower' than the computer's? \").strip().lower()\n",
        "\n",
        "    print(\"\\n🤖 The computer is revealing its number...\")\n",
        "    time.sleep(2)\n",
        "\n",
        "    print(f\"💻 Computer's Number: {computer_number}\")\n",
        "\n",
        "    if user_number == computer_number:\n",
        "        print(\"🤖 Same numbers! The computer wins this round by default! 😈\")\n",
        "    elif (guess == \"higher\" and user_number > computer_number):\n",
        "        print(\"✅ You guessed 'higher' and were RIGHT! You win this round! 🎉\")\n",
        "    elif (guess == \"lower\" and user_number < computer_number):\n",
        "        print(\"✅ You guessed 'lower' and were RIGHT! You win this round! 🎉\")\n",
        "    else:\n",
        "        print(\"❌ Wrong guess! The computer wins this round! 😢\")\n",
        "\n",
        "play_number_duel()\n"
      ],
      "metadata": {
        "colab": {
          "base_uri": "https://localhost:8080/"
        },
        "id": "PrS472H_8t7I",
        "outputId": "2d03e8a8-cf1b-45ef-e3b7-cdb708d0b1a2"
      },
      "execution_count": 1,
      "outputs": [
        {
          "output_type": "stream",
          "name": "stdout",
          "text": [
            "🎲 Welcome to The Ultimate Number Duel! 🎲\n",
            "\n",
            "🔹 Generating numbers... 🔹\n",
            "✨ Your Number: 76\n",
            "Do you think your number is 'higher' or 'lower' than the computer's? higher\n",
            "\n",
            "🤖 The computer is revealing its number...\n",
            "💻 Computer's Number: 67\n",
            "✅ You guessed 'higher' and were RIGHT! You win this round! 🎉\n"
          ]
        }
      ]
    }
  ]
}