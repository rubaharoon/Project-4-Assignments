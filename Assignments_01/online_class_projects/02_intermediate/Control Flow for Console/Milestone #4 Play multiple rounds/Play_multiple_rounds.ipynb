{
  "nbformat": 4,
  "nbformat_minor": 0,
  "metadata": {
    "colab": {
      "provenance": []
    },
    "kernelspec": {
      "name": "python3",
      "display_name": "Python 3"
    },
    "language_info": {
      "name": "python"
    }
  },
  "cells": [
    {
      "cell_type": "markdown",
      "source": [
        "** Play multiple rounds**"
      ],
      "metadata": {
        "id": "2WcwtyF79z51"
      }
    },
    {
      "cell_type": "code",
      "source": [
        "import random\n",
        "import time\n",
        "\n",
        "# Constant for the number of rounds\n",
        "NUM_ROUNDS = 3\n",
        "\n",
        "def play_number_duel():\n",
        "    print(\"🎲 Welcome to The Ultimate Number Duel! 🎲\\n\")\n",
        "\n",
        "    user_score = 0\n",
        "    computer_score = 0\n",
        "\n",
        "    for round_num in range(1, NUM_ROUNDS + 1):\n",
        "        print(f\"🔹 ROUND {round_num} 🔹\")\n",
        "\n",
        "        # Generate random numbers\n",
        "        user_number = random.randint(1, 100)\n",
        "        computer_number = random.randint(1, 100)\n",
        "\n",
        "        print(\"\\n✨ Your Number:\", user_number)\n",
        "\n",
        "        guess = input(\"Do you think your number is 'higher' or 'lower' than the computer's? \").strip().lower()\n",
        "\n",
        "        print(\"\\n🤖 The computer is making its decision...\")\n",
        "        time.sleep(2)\n",
        "\n",
        "        print(f\"💻 The computer's number is: {computer_number}\")\n",
        "\n",
        "        if user_number == computer_number:\n",
        "            print(\"🤖 The numbers are the same! The computer wins this round! 😈\")\n",
        "            computer_score += 1\n",
        "        elif (guess == \"higher\" and user_number > computer_number) or (guess == \"lower\" and user_number < computer_number):\n",
        "            print(\"✅ You guessed correctly! You win this round! 🎉\")\n",
        "            user_score += 1\n",
        "        else:\n",
        "            print(\"❌ Wrong guess! The computer wins this round! 😢\")\n",
        "            computer_score += 1\n",
        "\n",
        "        print(\"\\n-------------------\\n\")\n",
        "\n",
        "    print(\"🎮 Game Over! 🎮\")\n",
        "    print(f\"🏆 Final Score: You - {user_score} | Computer - {computer_score}\")\n",
        "\n",
        "    if user_score > computer_score:\n",
        "        print(\"🎉 Congratulations! You are the champion! 🏆\")\n",
        "    elif user_score < computer_score:\n",
        "        print(\"🤖 The computer wins! Better luck next time! 🤖\")\n",
        "    else:\n",
        "        print(\"🔄 It’s a tie! What a battle!\")\n",
        "\n",
        "play_number_duel()\n"
      ],
      "metadata": {
        "colab": {
          "base_uri": "https://localhost:8080/"
        },
        "id": "etnjh7ZC93cK",
        "outputId": "654fa418-856c-4adb-a7b4-f376724031a0"
      },
      "execution_count": 2,
      "outputs": [
        {
          "output_type": "stream",
          "name": "stdout",
          "text": [
            "🎲 Welcome to The Ultimate Number Duel! 🎲\n",
            "\n",
            "🔹 ROUND 1 🔹\n",
            "\n",
            "✨ Your Number: 78\n",
            "Do you think your number is 'higher' or 'lower' than the computer's? higher\n",
            "\n",
            "🤖 The computer is making its decision...\n",
            "💻 The computer's number is: 77\n",
            "✅ You guessed correctly! You win this round! 🎉\n",
            "\n",
            "-------------------\n",
            "\n",
            "🔹 ROUND 2 🔹\n",
            "\n",
            "✨ Your Number: 74\n",
            "Do you think your number is 'higher' or 'lower' than the computer's? lower\n",
            "\n",
            "🤖 The computer is making its decision...\n",
            "💻 The computer's number is: 96\n",
            "✅ You guessed correctly! You win this round! 🎉\n",
            "\n",
            "-------------------\n",
            "\n",
            "🔹 ROUND 3 🔹\n",
            "\n",
            "✨ Your Number: 64\n",
            "Do you think your number is 'higher' or 'lower' than the computer's? higher\n",
            "\n",
            "🤖 The computer is making its decision...\n",
            "💻 The computer's number is: 29\n",
            "✅ You guessed correctly! You win this round! 🎉\n",
            "\n",
            "-------------------\n",
            "\n",
            "🎮 Game Over! 🎮\n",
            "🏆 Final Score: You - 3 | Computer - 0\n",
            "🎉 Congratulations! You are the champion! 🏆\n"
          ]
        }
      ]
    }
  ]
}