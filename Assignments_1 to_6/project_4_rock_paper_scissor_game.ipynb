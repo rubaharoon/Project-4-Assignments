{
  "nbformat": 4,
  "nbformat_minor": 0,
  "metadata": {
    "colab": {
      "provenance": []
    },
    "kernelspec": {
      "name": "python3",
      "display_name": "Python 3"
    },
    "language_info": {
      "name": "python"
    }
  },
  "cells": [
    {
      "cell_type": "markdown",
      "source": [
        "***Project 4: \"Rock, Paper & Scissor Game\"***"
      ],
      "metadata": {
        "id": "82Xm-TtDFiRc"
      }
    },
    {
      "cell_type": "code",
      "source": [
        "import random\n",
        "\n",
        "def play_game():\n",
        "    print(\"🎮 Welcome to Rock, Paper, Scissors - Best of 3! ✂️🪨📄\")\n",
        "\n",
        "    choices = [\"rock\", \"paper\", \"scissors\"]\n",
        "    user_score, computer_score = 0, 0\n",
        "\n",
        "    while user_score < 2 and computer_score < 2:\n",
        "        user_choice = input(\"\\n🤔 Choose: Rock, Paper, or Scissors? \").lower()\n",
        "\n",
        "        if user_choice not in choices:\n",
        "            print(\"⚠️ Invalid choice! Please choose Rock, Paper, or Scissors. ❌\")\n",
        "            continue\n",
        "\n",
        "        computer_choice = random.choice(choices)\n",
        "\n",
        "        print(f\"🧑 You chose: {user_choice.capitalize()} 🎭\")\n",
        "        print(f\"🤖 Computer chose: {computer_choice.capitalize()} 💻\")\n",
        "\n",
        "        if user_choice == computer_choice:\n",
        "            print(\"😲 It's a tie! Try again. 🔄\")\n",
        "        elif (user_choice == \"rock\" and computer_choice == \"scissors\") or \\\n",
        "             (user_choice == \"paper\" and computer_choice == \"rock\") or \\\n",
        "             (user_choice == \"scissors\" and computer_choice == \"paper\"):\n",
        "            print(\"🎉 You win this round! 🏆🔥\")\n",
        "            user_score += 1\n",
        "        else:\n",
        "            print(\"😢 You lose this round! 💀\")\n",
        "            computer_score += 1\n",
        "\n",
        "        print(f\"📊 Score: You [{user_score}] - [{computer_score}] Computer\")\n",
        "\n",
        "    if user_score > computer_score:\n",
        "        print(\"\\n🏅 Congratulations! You won the match! 🎉🏆\")\n",
        "    else:\n",
        "        print(\"\\n💀 Oh no! The computer wins the match! Better luck next time. 🤖💔\")\n",
        "\n",
        "\n",
        "    play_again = input(\"\\n🔄 Want to play again? (yes/no): \").lower()\n",
        "    if play_again == 'yes':\n",
        "        play_game()\n",
        "    else:\n",
        "        print(\"👋 Thanks for playing! See you next time! 🚀\")\n",
        "\n",
        "# Run the game\n",
        "play_game()\n"
      ],
      "metadata": {
        "id": "Tmfdn61mFulp",
        "colab": {
          "base_uri": "https://localhost:8080/"
        },
        "outputId": "2e8c0faf-0ffc-4b52-cc0d-a00ecd9ce6e1"
      },
      "execution_count": null,
      "outputs": [
        {
          "output_type": "stream",
          "name": "stdout",
          "text": [
            "🎮 Welcome to Rock, Paper, Scissors - Best of 3! ✂️🪨📄\n",
            "\n",
            "🤔 Choose: Rock, Paper, or Scissors? Rock\n",
            "🧑 You chose: Rock 🎭\n",
            "🤖 Computer chose: Rock 💻\n",
            "😲 It's a tie! Try again. 🔄\n",
            "📊 Score: You [0] - [0] Computer\n",
            "\n",
            "🤔 Choose: Rock, Paper, or Scissors? Paper\n",
            "🧑 You chose: Paper 🎭\n",
            "🤖 Computer chose: Paper 💻\n",
            "😲 It's a tie! Try again. 🔄\n",
            "📊 Score: You [0] - [0] Computer\n",
            "\n",
            "🤔 Choose: Rock, Paper, or Scissors? Rock\n",
            "🧑 You chose: Rock 🎭\n",
            "🤖 Computer chose: Scissors 💻\n",
            "🎉 You win this round! 🏆🔥\n",
            "📊 Score: You [1] - [0] Computer\n",
            "\n",
            "🤔 Choose: Rock, Paper, or Scissors? Scissor\n",
            "⚠️ Invalid choice! Please choose Rock, Paper, or Scissors. ❌\n",
            "\n",
            "🤔 Choose: Rock, Paper, or Scissors? Scissors\n",
            "🧑 You chose: Scissors 🎭\n",
            "🤖 Computer chose: Paper 💻\n",
            "🎉 You win this round! 🏆🔥\n",
            "📊 Score: You [2] - [0] Computer\n",
            "\n",
            "🏅 Congratulations! You won the match! 🎉🏆\n",
            "\n",
            "🔄 Want to play again? (yes/no): no\n",
            "👋 Thanks for playing! See you next time! 🚀\n"
          ]
        }
      ]
    }
  ]
}