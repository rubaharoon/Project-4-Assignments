{
  "nbformat": 4,
  "nbformat_minor": 0,
  "metadata": {
    "colab": {
      "provenance": []
    },
    "kernelspec": {
      "name": "python3",
      "display_name": "Python 3"
    },
    "language_info": {
      "name": "python"
    }
  },
  "cells": [
    {
      "cell_type": "markdown",
      "source": [
        "*Project 3: \"Guess the Number Game Python Project (user)\"*"
      ],
      "metadata": {
        "id": "YlKTS3fb-k7G"
      }
    },
    {
      "cell_type": "code",
      "source": [
        "import random\n",
        "\n",
        "def guess_the_number():\n",
        "    print(\"🎯 Welcome to the Ultimate Number Guessing Game! 🤩🎮\")\n",
        "\n",
        "    while True:\n",
        "        try:\n",
        "            lower_limit = int(input(\"Enter the **minimum** number: \"))\n",
        "            upper_limit = int(input(\"Enter the **maximum** number: \"))\n",
        "\n",
        "            if lower_limit >= upper_limit:\n",
        "                print(\"⚠️ Invalid range! The **minimum** must be smaller than the **maximum**. Try again! 🔢\")\n",
        "                continue\n",
        "        except ValueError:\n",
        "            print(\"⚠️ Please enter valid numbers for the range! 🔢\")\n",
        "            continue\n",
        "\n",
        "        # Generate a random number within the range\n",
        "        secret_number = random.randint(lower_limit, upper_limit)\n",
        "        attempts = 0\n",
        "\n",
        "        print(f\"\\n🤖 I've picked a secret number between **{lower_limit} and {upper_limit}**. Can you guess it? 🤔\")\n",
        "\n",
        "        while True:\n",
        "            try:\n",
        "                # Take user input\n",
        "                user_guess = int(input(\"💡 Enter your guess: \"))\n",
        "                attempts += 1\n",
        "\n",
        "                # Check if the guess is correct\n",
        "                if user_guess < secret_number:\n",
        "                    print(\"📉 Too low! Try a **higher** number. ⬆️\")\n",
        "                elif user_guess > secret_number:\n",
        "                    print(\"📈 Too high! Try a **lower** number. ⬇️\")\n",
        "                else:\n",
        "                    print(f\"🎉 **Congratulations!** Wohoooo! 🎊 You guessed the right number in **{attempts}** attempts! 🏆🥳\")\n",
        "                    break\n",
        "            except ValueError:\n",
        "                print(\"⚠️ **Oops!** Please enter a valid **number**! 🔢\")\n",
        "\n",
        "        # Ask if the player wants to play again\n",
        "        play_again = input(\"\\n🔄 Want to play again? (yes/no): \").lower()\n",
        "        if play_again != 'yes':\n",
        "            print(\"🎮 Thanks for playing! See you next time! 🚀\")\n",
        "            break\n",
        "\n",
        "# Call the function to start the game\n",
        "guess_the_number()\n"
      ],
      "metadata": {
        "colab": {
          "base_uri": "https://localhost:8080/"
        },
        "id": "v4a28bNn_DU4",
        "outputId": "30cc5f0a-1e5a-4ab1-fa2c-935c394f8b48"
      },
      "execution_count": null,
      "outputs": [
        {
          "output_type": "stream",
          "name": "stdout",
          "text": [
            "🎯 Welcome to the Ultimate Number Guessing Game! 🤩🎮\n",
            "Enter the **minimum** number: 10\n",
            "Enter the **maximum** number: 40\n",
            "\n",
            "🤖 I've picked a secret number between **10 and 40**. Can you guess it? 🤔\n",
            "💡 Enter your guess: 30\n",
            "📉 Too low! Try a **higher** number. ⬆️\n",
            "💡 Enter your guess: 35\n",
            "📉 Too low! Try a **higher** number. ⬆️\n",
            "💡 Enter your guess: 38\n",
            "🎉 **Congratulations!** Wohoooo! 🎊 You guessed the right number in **3** attempts! 🏆🥳\n",
            "\n",
            "🔄 Want to play again? (yes/no): no\n",
            "🎮 Thanks for playing! See you next time! 🚀\n"
          ]
        }
      ]
    }
  ]
}