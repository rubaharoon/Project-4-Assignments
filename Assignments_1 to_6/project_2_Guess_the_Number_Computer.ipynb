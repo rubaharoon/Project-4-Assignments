{
  "nbformat": 4,
  "nbformat_minor": 0,
  "metadata": {
    "colab": {
      "provenance": []
    },
    "kernelspec": {
      "name": "python3",
      "display_name": "Python 3"
    },
    "language_info": {
      "name": "python"
    }
  },
  "cells": [
    {
      "cell_type": "markdown",
      "source": [
        "***\"Project 2: Guess the Number Game Python Project (computer)\"***"
      ],
      "metadata": {
        "id": "G5zq1jj3C03Q"
      }
    },
    {
      "cell_type": "code",
      "source": [
        "import random\n",
        "\n",
        "def computer_guess():\n",
        "    print(\"🎯 Welcome to the 'Guess the Number' Game! 🤖🎮\")\n",
        "\n",
        "    while True:\n",
        "        print(\"\\n🤔 Think of a number between **1 and 50**, and I'll try to guess it! 🔢\")\n",
        "\n",
        "        low, high = 1, 50\n",
        "        attempts = 0\n",
        "\n",
        "        while low <= high:\n",
        "            guess = random.randint(low, high)\n",
        "            attempts += 1\n",
        "\n",
        "            print(f\"🤖 My guess is: **{guess}** 🎯\")\n",
        "            feedback = input(\"📢 Is it (H)igh, (L)ow, or (C)orrect? \").lower()\n",
        "\n",
        "            if feedback == \"c\":\n",
        "                print(f\"🎉 Wohoooo! 🥳 I guessed it in **{attempts}** attempts! 🏆🔥\")\n",
        "                break\n",
        "            elif feedback == \"h\":\n",
        "                high = guess - 1\n",
        "            elif feedback == \"l\":\n",
        "                low = guess + 1\n",
        "            else:\n",
        "                print(\"⚠️ Please enter **H, L, or C** only! 📝\")\n",
        "\n",
        "        play_again = input(\"\\n🔄 Want to play again? (yes/no): \").lower()\n",
        "        if play_again != 'yes':\n",
        "            print(\"👋 Thanks for playing! See you next time! 🚀\")\n",
        "            break\n",
        "\n",
        "# Run the game\n",
        "computer_guess()\n"
      ],
      "metadata": {
        "colab": {
          "base_uri": "https://localhost:8080/"
        },
        "id": "cMsqPkaMDv7T",
        "outputId": "b896e4fb-5b59-42db-be7a-6e0fc6bf9ae3"
      },
      "execution_count": null,
      "outputs": [
        {
          "output_type": "stream",
          "name": "stdout",
          "text": [
            "🎯 Welcome to the 'Guess the Number' Game! 🤖🎮\n",
            "\n",
            "🤔 Think of a number between **1 and 50**, and I'll try to guess it! 🔢\n",
            "🤖 My guess is: **39** 🎯\n",
            "📢 Is it (H)igh, (L)ow, or (C)orrect? L\n",
            "🤖 My guess is: **44** 🎯\n",
            "📢 Is it (H)igh, (L)ow, or (C)orrect? C\n",
            "🎉 Wohoooo! 🥳 I guessed it in **2** attempts! 🏆🔥\n",
            "\n",
            "🔄 Want to play again? (yes/no): no\n",
            "👋 Thanks for playing! See you next time! 🚀\n"
          ]
        }
      ]
    }
  ]
}