{
  "nbformat": 4,
  "nbformat_minor": 0,
  "metadata": {
    "colab": {
      "provenance": []
    },
    "kernelspec": {
      "name": "python3",
      "display_name": "Python 3"
    },
    "language_info": {
      "name": "python"
    }
  },
  "cells": [
    {
      "cell_type": "markdown",
      "source": [
        "**Mad libs Python Project**"
      ],
      "metadata": {
        "id": "Xqw-ZVHIzC26"
      }
    },
    {
      "cell_type": "code",
      "source": [
        "import random\n",
        "\n",
        "print(\"🎭 Welcome to the Crazy Adventure Generator! 🎭\\n\")\n",
        "print(\"😂 Fill in the blanks and create your own epic (and ridiculous) adventure! 🌟\\n\")\n",
        "\n",
        "hero_name = input(\"🦸 Enter a hero name: \")\n",
        "power = input(\"⚡ Name a strange superpower: \")\n",
        "monster = input(\"👹 Enter a weird monster name: \")\n",
        "location = input(\"📍 Name a bizarre place: \")\n",
        "favorite_snack = input(\"🍿 What's your favorite snack?: \")\n",
        "weapon = input(\"🗡️ Name a funny weapon: \")\n",
        "emotion = input(\"😆 How are you feeling right now?: \")\n",
        "funny_noise = input(\"🔊 Enter a goofy sound effect: \")\n",
        "transport = input(\"🚁 Name a random mode of transport: \")\n",
        "\n",
        "funny_events = [\n",
        "    \"accidentally opened a portal to a donut dimension 🍩🌌\",\n",
        "    \"started juggling flaming pineapples 🔥🍍\",\n",
        "    \"tripped over an invisible banana peel 🍌😂\",\n",
        "    \"mistook a dragon for a giant pigeon 🐉🐦\",\n",
        "    \"danced so hard the ground started shaking 💃🌍\"\n",
        "]\n",
        "\n",
        "random_event = random.choice(funny_events)\n",
        "\n",
        "adventure_story = f\"\"\"\n",
        "🏆🌪️ THE LEGEND OF {hero_name} 🌪️🏆\n",
        "\n",
        "Deep in the heart of {location} 🏜️, a hero named {hero_name} was on a mission!\n",
        "With the incredible power of {power} 💥, they set out to defeat the terrifying {monster} 👹,\n",
        "who had stolen the world’s last supply of {favorite_snack}! 😱\n",
        "\n",
        "Just as the battle began, {hero_name} {random_event.upper()}! 🤯\n",
        "The {monster} was so {emotion} that it let out a mighty '{funny_noise}!' 🔊\n",
        "and ran away, tripping over its own tail! 🏃‍♂️💨\n",
        "\n",
        "With victory in hand, {hero_name} grabbed their {weapon} ⚔️, jumped onto a {transport} 🚁,\n",
        "and zoomed off into the sunset… but not before enjoying a well-deserved snack of {favorite_snack}. 🍽️\n",
        "\n",
        "And thus, the tale of {hero_name}, the Hero of {location}, became a legend! 🎉🔥\n",
        "\"\"\"\n",
        "\n",
        "print(\"\\n\" + \"=\"*65)\n",
        "print(adventure_story)\n",
        "print(\"=\"*65 + \"\\n\")\n",
        "\n",
        "print(\"😂 That was a wild ride! Try again to create a new adventure! 🚀\")\n"
      ],
      "metadata": {
        "colab": {
          "base_uri": "https://localhost:8080/"
        },
        "id": "XNF1edDX4qjA",
        "outputId": "476ac8ab-f0bc-46a1-928d-3f089d3202d6"
      },
      "execution_count": null,
      "outputs": [
        {
          "output_type": "stream",
          "name": "stdout",
          "text": [
            "🎭 Welcome to the Crazy Adventure Generator! 🎭\n",
            "\n",
            "😂 Fill in the blanks and create your own epic (and ridiculous) adventure! 🌟\n",
            "\n",
            "🦸 Enter a hero name: Ruba\n",
            "⚡ Name a strange superpower: flying\n",
            "👹 Enter a weird monster name: bloop\n",
            "📍 Name a bizarre place: Wobble Villa\n",
            "🍿 What's your favorite snack?: Choco Blasters \n",
            "🗡️ Name a funny weapon: Exploding Popcorn Blaster\n",
            "😆 How are you feeling right now?: Happy\n",
            "🔊 Enter a goofy sound effect: Bloop Bloop!\n",
            "🚁 Name a random mode of transport: Rocket-Powered Skateboard \n",
            "\n",
            "=================================================================\n",
            "\n",
            "🏆🌪️ THE LEGEND OF Ruba 🌪️🏆\n",
            "\n",
            "Deep in the heart of Wobble Villa 🏜️, a hero named Ruba was on a mission!  \n",
            "With the incredible power of flying 💥, they set out to defeat the terrifying bloop 👹,  \n",
            "who had stolen the world’s last supply of Choco Blasters ! 😱  \n",
            "\n",
            "Just as the battle began, Ruba MISTOOK A DRAGON FOR A GIANT PIGEON 🐉🐦! 🤯  \n",
            "The bloop was so Happy that it let out a mighty 'Bloop Bloop!!' 🔊  \n",
            "and ran away, tripping over its own tail! 🏃‍♂️💨  \n",
            "\n",
            "With victory in hand, Ruba grabbed their Exploding Popcorn Blaster ⚔️, jumped onto a Rocket-Powered Skateboard  🚁,  \n",
            "and zoomed off into the sunset… but not before enjoying a well-deserved snack of Choco Blasters . 🍽️  \n",
            "\n",
            "And thus, the tale of Ruba, the Hero of Wobble Villa, became a legend! 🎉🔥  \n",
            "\n",
            "=================================================================\n",
            "\n",
            "😂 That was a wild ride! Try again to create a new adventure! 🚀\n"
          ]
        }
      ]
    }
  ]
}