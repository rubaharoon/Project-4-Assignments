{
  "nbformat": 4,
  "nbformat_minor": 0,
  "metadata": {
    "colab": {
      "provenance": []
    },
    "kernelspec": {
      "name": "python3",
      "display_name": "Python 3"
    },
    "language_info": {
      "name": "python"
    }
  },
  "cells": [
    {
      "cell_type": "markdown",
      "source": [
        "***\"Project 7 Password Generator\"***"
      ],
      "metadata": {
        "id": "LUbED7QWapeI"
      }
    },
    {
      "cell_type": "code",
      "source": [
        "import random\n",
        "import string\n",
        "\n",
        "def generate_password(length):\n",
        "    \"\"\"Generate a secure random password with mixed characters.\"\"\"\n",
        "    characters = string.ascii_letters + string.digits + string.punctuation\n",
        "    return ''.join(random.choice(characters) for _ in range(length))\n",
        "\n",
        "def rate_password(password):\n",
        "    \"\"\"Rate password strength based on length and complexity.\"\"\"\n",
        "    length = len(password)\n",
        "    if length < 6:\n",
        "        return \"🟥 Weak 🔴 (Consider a longer password!)\"\n",
        "    elif length < 10:\n",
        "        return \"🟨 Medium 🟡 (Better, but could be stronger!)\"\n",
        "    else:\n",
        "        return \"🟩 Strong ✅ (Great choice!)\"\n",
        "\n",
        "def password_generator():\n",
        "    print(\"🔐 Welcome to the Ultimate Password Generator! 🚀\")\n",
        "\n",
        "    # Get user input for number of passwords\n",
        "    while True:\n",
        "        try:\n",
        "            num_passwords = int(input(\"📌 How many passwords do you need? \"))\n",
        "            if num_passwords <= 0:\n",
        "                print(\"⚠️ Please enter a positive number! 🔢\")\n",
        "                continue\n",
        "            break\n",
        "        except ValueError:\n",
        "            print(\"⚠️ Invalid input! Please enter a valid number. 🔢\")\n",
        "\n",
        "    # Get user input for password length\n",
        "    while True:\n",
        "        try:\n",
        "            length = int(input(\"📏 Choose the length of each password: \"))\n",
        "            if length < 4:\n",
        "                print(\"⚠️ Passwords should be at least **4 characters** long! 🔑\")\n",
        "                continue\n",
        "            break\n",
        "        except ValueError:\n",
        "            print(\"⚠️ Invalid input! Please enter a valid number. 🔢\")\n",
        "\n",
        "    print(\"\\n✨ Here are your **ultra-secure** passwords! ✨\\n\")\n",
        "\n",
        "    for i in range(num_passwords):\n",
        "        password = generate_password(length)\n",
        "        print(f\"🔹 **Password {i + 1}:** `{password}` 🔒 {rate_password(password)}\")\n",
        "\n",
        "    print(\"\\n🎉 Stay safe and keep your passwords secret! 🛡️\")\n",
        "\n",
        "password_generator()\n"
      ],
      "metadata": {
        "colab": {
          "base_uri": "https://localhost:8080/"
        },
        "id": "TciUw8BSax0x",
        "outputId": "78adc578-5852-41af-d7a8-e182ea0a6a51"
      },
      "execution_count": null,
      "outputs": [
        {
          "output_type": "stream",
          "name": "stdout",
          "text": [
            "🔐 Welcome to the Ultimate Password Generator! 🚀\n",
            "📌 How many passwords do you need? 3\n",
            "📏 Choose the length of each password: 8\n",
            "\n",
            "✨ Here are your **ultra-secure** passwords! ✨\n",
            "\n",
            "🔹 **Password 1:** `uYtJi[JC` 🔒 🟨 Medium 🟡 (Better, but could be stronger!)\n",
            "🔹 **Password 2:** `K-7G7Vi\"` 🔒 🟨 Medium 🟡 (Better, but could be stronger!)\n",
            "🔹 **Password 3:** `[fZ1OR:a` 🔒 🟨 Medium 🟡 (Better, but could be stronger!)\n",
            "\n",
            "🎉 Stay safe and keep your passwords secret! 🛡️\n"
          ]
        }
      ]
    }
  ]
}