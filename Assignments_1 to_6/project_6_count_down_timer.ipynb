{
  "cells": [
    {
      "cell_type": "markdown",
      "metadata": {
        "id": "JVduXZXIYPCx"
      },
      "source": [
        "***\"Project 6: Count Down Timer Project\"***"
      ]
    },
    {
      "cell_type": "code",
      "execution_count": null,
      "metadata": {
        "colab": {
          "background_save": true,
          "base_uri": "https://localhost:8080/"
        },
        "id": "TpHKhHi7ZDu2",
        "outputId": "1fcf698d-e47d-441d-cf60-c73b2eac7a5d"
      },
      "outputs": [
        {
          "name": "stdout",
          "output_type": "stream",
          "text": [
            "⏳ Welcome to the Countdown Timer! 🚀\n",
            "\n",
            "🚦 Countdown starts now! 🎬\n",
            "\n",
            "🎉 Time’s up! ⏰🎊\n"
          ]
        }
      ],
      "source": [
        "import time\n",
        "\n",
        "def countdown_timer():\n",
        "    print(\"⏳ Welcome to the Countdown Timer! 🚀\")\n",
        "\n",
        "    # Get user input for time in seconds\n",
        "    while True:\n",
        "        try:\n",
        "            seconds = int(input(\"⏰ Enter countdown time in seconds: \"))\n",
        "            if seconds < 0:\n",
        "                print(\"⚠️ Please enter a positive number!\")\n",
        "                continue\n",
        "            break\n",
        "        except ValueError:\n",
        "            print(\"⚠️ Invalid input! Please enter a valid number.\")\n",
        "\n",
        "    print(\"\\n🚦 Countdown starts now! 🎬\")\n",
        "\n",
        "    # Countdown loop\n",
        "    while seconds:\n",
        "        mins, secs = divmod(seconds, 60)\n",
        "        time_format = f\"{mins:02d}:{secs:02d}\"\n",
        "        print(f\"⏳ Time left: {time_format}  \", end=\"\\r\", flush=True)\n",
        "        time.sleep(1)\n",
        "        seconds -= 1\n",
        "\n",
        "    # Countdown complete message\n",
        "    print(\"\\n🎉 Time’s up! ⏰🎊\")\n",
        "\n",
        "# Run the timer\n",
        "countdown_timer()\n"
      ]
    }
  ],
  "metadata": {
    "colab": {
      "provenance": []
    },
    "kernelspec": {
      "display_name": "Python 3",
      "name": "python3"
    },
    "language_info": {
      "name": "python"
    }
  },
  "nbformat": 4,
  "nbformat_minor": 0
}